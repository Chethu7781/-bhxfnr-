{
  "nbformat": 4,
  "nbformat_minor": 0,
  "metadata": {
    "colab": {
      "provenance": [],
      "authorship_tag": "ABX9TyMKvw6tPALDUWKUFu7pPhtF",
      "include_colab_link": true
    },
    "kernelspec": {
      "name": "python3",
      "display_name": "Python 3"
    },
    "language_info": {
      "name": "python"
    }
  },
  "cells": [
    {
      "cell_type": "markdown",
      "metadata": {
        "id": "view-in-github",
        "colab_type": "text"
      },
      "source": [
        "<a href=\"https://colab.research.google.com/github/Chethu7781/-bhxfnr-/blob/master/pysparkINTV.ipynb\" target=\"_parent\"><img src=\"https://colab.research.google.com/assets/colab-badge.svg\" alt=\"Open In Colab\"/></a>"
      ]
    },
    {
      "cell_type": "code",
      "source": [
        "# pip install pyspark\n",
        "import pandas as pd\n",
        "import numpy as np\n",
        "from pyspark.sql import SparkSession\n",
        "from pyspark.sql.types import StructType,StructField, StringType, IntegerType \n",
        "from pyspark.sql.types import ArrayType, DoubleType, BooleanType\n",
        "from pyspark.sql.functions import *"
      ],
      "metadata": {
        "id": "leVUjpLyj7FV"
      },
      "execution_count": 52,
      "outputs": []
    },
    {
      "cell_type": "code",
      "source": [
        "spark = SparkSession.builder.master('local').appName('demoApp').getOrCreate()\n",
        "spark"
      ],
      "metadata": {
        "colab": {
          "base_uri": "https://localhost:8080/",
          "height": 219
        },
        "id": "cglMXqvtkgVi",
        "outputId": "69888ce5-d6a1-464a-d6ba-9d3820a19f36"
      },
      "execution_count": 3,
      "outputs": [
        {
          "output_type": "execute_result",
          "data": {
            "text/plain": [
              "<pyspark.sql.session.SparkSession at 0x7f1040e60a30>"
            ],
            "text/html": [
              "\n",
              "            <div>\n",
              "                <p><b>SparkSession - in-memory</b></p>\n",
              "                \n",
              "        <div>\n",
              "            <p><b>SparkContext</b></p>\n",
              "\n",
              "            <p><a href=\"http://e664f74feb5c:4040\">Spark UI</a></p>\n",
              "\n",
              "            <dl>\n",
              "              <dt>Version</dt>\n",
              "                <dd><code>v3.4.0</code></dd>\n",
              "              <dt>Master</dt>\n",
              "                <dd><code>local</code></dd>\n",
              "              <dt>AppName</dt>\n",
              "                <dd><code>demoApp</code></dd>\n",
              "            </dl>\n",
              "        </div>\n",
              "        \n",
              "            </div>\n",
              "        "
            ]
          },
          "metadata": {},
          "execution_count": 3
        }
      ]
    },
    {
      "cell_type": "markdown",
      "source": [
        "IF we have the schema for creating a dataframe, we can use that else we can create our own schema and apply for that as well\n",
        "```\n",
        "new_schema = StructType([\n",
        "                 StructFeild('column1', columnType),\n",
        "                 StructFeild('column2', StringType()),\n",
        "                 StructFeild('column3', IntegerType()),\n",
        "                 structFeild('column4', BoolType()),\n",
        "                  ])\n",
        "```\n",
        "for including the schema in the df\n",
        "```\n",
        "df = spark.read.csv('filename.csv', inferSchema=True, schema=new_schema, header=True).\n",
        "```\n",
        "\n",
        "\n",
        "\n"
      ],
      "metadata": {
        "id": "e5w3nmHU1G1J"
      }
    },
    {
      "cell_type": "code",
      "source": [
        "#Reading existing csv data from hdfs\n",
        "#command to check the data file in hdfs {$hdfs dfs -ls /}\n",
        "# df_hdfs = spark.read.option('csv').load('hdfs://172.12.13.145:8020/{directoryofhdfscsvfile}')\n",
        "df1 = spark.read.csv('/content/annual-enterprise-survey-2021-financial-year-provisional-size-bands-csv.csv', header=True)"
      ],
      "metadata": {
        "id": "MM3zt9LZtL4p"
      },
      "execution_count": 8,
      "outputs": []
    },
    {
      "cell_type": "code",
      "source": [
        "df1.show(5)"
      ],
      "metadata": {
        "colab": {
          "base_uri": "https://localhost:8080/"
        },
        "id": "YfSuWkpGu-EK",
        "outputId": "4971a56b-8167-45f9-b3cc-8ee06b481396"
      },
      "execution_count": 14,
      "outputs": [
        {
          "output_type": "stream",
          "name": "stdout",
          "text": [
            "+----+--------------------+--------------------+------------+--------------------+-----+-----------------+\n",
            "|year|industry_code_ANZSIC|industry_name_ANZSIC|rme_size_grp|            variable|value|             unit|\n",
            "+----+--------------------+--------------------+------------+--------------------+-----+-----------------+\n",
            "|2011|                   A|Agriculture, Fore...|         a_0|       Activity unit|46134|            COUNT|\n",
            "|2011|                   A|Agriculture, Fore...|         a_0|Rolling mean empl...|    0|            COUNT|\n",
            "|2011|                   A|Agriculture, Fore...|         a_0|Salaries and wage...|  279|DOLLARS(millions)|\n",
            "|2011|                   A|Agriculture, Fore...|         a_0|Sales, government...| 8187|DOLLARS(millions)|\n",
            "|2011|                   A|Agriculture, Fore...|         a_0|        Total income| 8866|DOLLARS(millions)|\n",
            "+----+--------------------+--------------------+------------+--------------------+-----+-----------------+\n",
            "only showing top 5 rows\n",
            "\n"
          ]
        }
      ]
    },
    {
      "cell_type": "markdown",
      "source": [
        "The default port no of hdfs is 5007, you can visit the site\n",
        "eg: 172.12.13.145:5007\n",
        "can check the data divided into how many blocks\n",
        "if you have read data from hdfs, you can check the no of partitions in the code\n",
        "$ **print(df_hdfs.rdd.getNumPartitions())**"
      ],
      "metadata": {
        "id": "aWghh0BkwzwW"
      }
    },
    {
      "cell_type": "code",
      "source": [
        "print(df1.rdd.getNumPartitions())"
      ],
      "metadata": {
        "colab": {
          "base_uri": "https://localhost:8080/"
        },
        "id": "H2d_s0opx9bq",
        "outputId": "1e110b32-159f-423b-f04d-7e6aa809ba68"
      },
      "execution_count": 15,
      "outputs": [
        {
          "output_type": "stream",
          "name": "stdout",
          "text": [
            "1\n"
          ]
        }
      ]
    },
    {
      "cell_type": "markdown",
      "source": [
        "The spark will have its default configurations while configuring we can check that using code $**print(spark.SparkContext.defaultParralelism)**"
      ],
      "metadata": {
        "id": "JaQEE8T1yebn"
      }
    },
    {
      "cell_type": "code",
      "source": [
        "print(spark.sparkContext.defaultParallelism)"
      ],
      "metadata": {
        "colab": {
          "base_uri": "https://localhost:8080/"
        },
        "id": "8S4qztj5y4k0",
        "outputId": "57e675c0-ee27-4cc3-a5ff-ca3c30f73069"
      },
      "execution_count": 17,
      "outputs": [
        {
          "output_type": "stream",
          "name": "stdout",
          "text": [
            "1\n"
          ]
        }
      ]
    },
    {
      "cell_type": "code",
      "source": [
        "print(df1.schema)"
      ],
      "metadata": {
        "colab": {
          "base_uri": "https://localhost:8080/"
        },
        "id": "H56BLHq-0hMs",
        "outputId": "a8895111-4b8c-478f-d190-aad5ead7b8b8"
      },
      "execution_count": 19,
      "outputs": [
        {
          "output_type": "stream",
          "name": "stdout",
          "text": [
            "StructType([StructField('year', StringType(), True), StructField('industry_code_ANZSIC', StringType(), True), StructField('industry_name_ANZSIC', StringType(), True), StructField('rme_size_grp', StringType(), True), StructField('variable', StringType(), True), StructField('value', StringType(), True), StructField('unit', StringType(), True)])\n"
          ]
        }
      ]
    },
    {
      "cell_type": "code",
      "source": [
        "#To filter the dataframe we can use  where\n",
        "df1.where('industry_code_ANZSIC=\"A\"').show(5)"
      ],
      "metadata": {
        "colab": {
          "base_uri": "https://localhost:8080/"
        },
        "id": "ZtjOB40BGl_k",
        "outputId": "3d475a30-9633-4948-8b5d-d5e6da2cacad"
      },
      "execution_count": 24,
      "outputs": [
        {
          "output_type": "stream",
          "name": "stdout",
          "text": [
            "+----+--------------------+--------------------+------------+--------------------+-----+-----------------+\n",
            "|year|industry_code_ANZSIC|industry_name_ANZSIC|rme_size_grp|            variable|value|             unit|\n",
            "+----+--------------------+--------------------+------------+--------------------+-----+-----------------+\n",
            "|2011|                   A|Agriculture, Fore...|         a_0|       Activity unit|46134|            COUNT|\n",
            "|2011|                   A|Agriculture, Fore...|         a_0|Rolling mean empl...|    0|            COUNT|\n",
            "|2011|                   A|Agriculture, Fore...|         a_0|Salaries and wage...|  279|DOLLARS(millions)|\n",
            "|2011|                   A|Agriculture, Fore...|         a_0|Sales, government...| 8187|DOLLARS(millions)|\n",
            "|2011|                   A|Agriculture, Fore...|         a_0|        Total income| 8866|DOLLARS(millions)|\n",
            "+----+--------------------+--------------------+------------+--------------------+-----+-----------------+\n",
            "only showing top 5 rows\n",
            "\n"
          ]
        }
      ]
    },
    {
      "cell_type": "code",
      "source": [
        "#To convert the datatype of column we need to cast it, we have different types\n",
        "df1.withColumn('value',col('value').cast('int'))"
      ],
      "metadata": {
        "colab": {
          "base_uri": "https://localhost:8080/"
        },
        "id": "KPXgEhUzHhmF",
        "outputId": "0aa1a5da-c66b-4870-bb1c-37be02054f2b"
      },
      "execution_count": 32,
      "outputs": [
        {
          "output_type": "execute_result",
          "data": {
            "text/plain": [
              "DataFrame[year: string, industry_code_ANZSIC: string, industry_name_ANZSIC: string, rme_size_grp: string, variable: string, value: int, unit: string]"
            ]
          },
          "metadata": {},
          "execution_count": 32
        }
      ]
    },
    {
      "cell_type": "code",
      "source": [
        "x = df1.withColumn('new_value', df1.value/1000)"
      ],
      "metadata": {
        "id": "WGAxltz9Kxct"
      },
      "execution_count": 47,
      "outputs": []
    },
    {
      "cell_type": "code",
      "source": [
        "x.show(5)"
      ],
      "metadata": {
        "colab": {
          "base_uri": "https://localhost:8080/"
        },
        "id": "-Vx-GVLSNPnL",
        "outputId": "7bac25b5-20d7-4883-f8bb-72c56dce8eae"
      },
      "execution_count": 50,
      "outputs": [
        {
          "output_type": "stream",
          "name": "stdout",
          "text": [
            "+----+--------------------+--------------------+------------+--------------------+-----+-----------------+---------+\n",
            "|year|industry_code_ANZSIC|industry_name_ANZSIC|rme_size_grp|            variable|value|             unit|new_value|\n",
            "+----+--------------------+--------------------+------------+--------------------+-----+-----------------+---------+\n",
            "|2011|                   A|Agriculture, Fore...|         a_0|       Activity unit|46134|            COUNT|   46.134|\n",
            "|2011|                   A|Agriculture, Fore...|         a_0|Rolling mean empl...|    0|            COUNT|      0.0|\n",
            "|2011|                   A|Agriculture, Fore...|         a_0|Salaries and wage...|  279|DOLLARS(millions)|    0.279|\n",
            "|2011|                   A|Agriculture, Fore...|         a_0|Sales, government...| 8187|DOLLARS(millions)|    8.187|\n",
            "|2011|                   A|Agriculture, Fore...|         a_0|        Total income| 8866|DOLLARS(millions)|    8.866|\n",
            "+----+--------------------+--------------------+------------+--------------------+-----+-----------------+---------+\n",
            "only showing top 5 rows\n",
            "\n"
          ]
        }
      ]
    },
    {
      "cell_type": "code",
      "source": [
        "#To get the unique values in the dataframe of particular columns we use distinct\n",
        "df1.select('industry_code_ANZSIC').distinct().show()"
      ],
      "metadata": {
        "colab": {
          "base_uri": "https://localhost:8080/"
        },
        "id": "QMvYAy77Nfqf",
        "outputId": "1f1e3d9a-b6d0-4200-e5a4-5e4dc5fed4ba"
      },
      "execution_count": 51,
      "outputs": [
        {
          "output_type": "stream",
          "name": "stdout",
          "text": [
            "+--------------------+\n",
            "|industry_code_ANZSIC|\n",
            "+--------------------+\n",
            "|                   K|\n",
            "|                   F|\n",
            "|                   Q|\n",
            "|                   E|\n",
            "|                   B|\n",
            "|                   L|\n",
            "|                   M|\n",
            "|                   D|\n",
            "|                   O|\n",
            "|                   C|\n",
            "|                   J|\n",
            "|                   A|\n",
            "|                   N|\n",
            "|                   S|\n",
            "|                   R|\n",
            "|                   G|\n",
            "|                   I|\n",
            "|                   P|\n",
            "|                 all|\n",
            "|                   H|\n",
            "+--------------------+\n",
            "\n"
          ]
        }
      ]
    },
    {
      "cell_type": "code",
      "source": [
        "#creating a new column based on existing column constraints using when type\n",
        "df1.withColumn('Rating', when(col('industry_code_ANZSIC')=='A', \"HIGH\").otherwise(\"LOW\")).show(10)"
      ],
      "metadata": {
        "colab": {
          "base_uri": "https://localhost:8080/"
        },
        "id": "jo77kKy8PLK8",
        "outputId": "2d279d11-b2b1-4cc6-b337-79bb78293b0e"
      },
      "execution_count": 55,
      "outputs": [
        {
          "output_type": "stream",
          "name": "stdout",
          "text": [
            "+----+--------------------+--------------------+------------+--------------------+-----+-----------------+------+\n",
            "|year|industry_code_ANZSIC|industry_name_ANZSIC|rme_size_grp|            variable|value|             unit|Rating|\n",
            "+----+--------------------+--------------------+------------+--------------------+-----+-----------------+------+\n",
            "|2011|                   A|Agriculture, Fore...|         a_0|       Activity unit|46134|            COUNT|  HIGH|\n",
            "|2011|                   A|Agriculture, Fore...|         a_0|Rolling mean empl...|    0|            COUNT|  HIGH|\n",
            "|2011|                   A|Agriculture, Fore...|         a_0|Salaries and wage...|  279|DOLLARS(millions)|  HIGH|\n",
            "|2011|                   A|Agriculture, Fore...|         a_0|Sales, government...| 8187|DOLLARS(millions)|  HIGH|\n",
            "|2011|                   A|Agriculture, Fore...|         a_0|        Total income| 8866|DOLLARS(millions)|  HIGH|\n",
            "|2011|                   A|Agriculture, Fore...|         a_0|   Total expenditure| 7618|DOLLARS(millions)|  HIGH|\n",
            "|2011|                   A|Agriculture, Fore...|         a_0|Operating profit ...|  770|DOLLARS(millions)|  HIGH|\n",
            "|2011|                   A|Agriculture, Fore...|         a_0|        Total assets|55700|DOLLARS(millions)|  HIGH|\n",
            "|2011|                   A|Agriculture, Fore...|         a_0|Fixed tangible as...|32155|DOLLARS(millions)|  HIGH|\n",
            "|2011|                   A|Agriculture, Fore...|       b_1-5|       Activity unit|21777|            COUNT|  HIGH|\n",
            "+----+--------------------+--------------------+------------+--------------------+-----+-----------------+------+\n",
            "only showing top 10 rows\n",
            "\n"
          ]
        }
      ]
    },
    {
      "cell_type": "markdown",
      "source": [
        "Note: DataFrame is domain specific language\n",
        "IF we want to use pure SQL statements in the dataframe, we can create sql table from dataframes\n",
        "there are two types of table creation from dataframes\n",
        "1. temporary \n",
        "2. Permananet"
      ],
      "metadata": {
        "id": "GsM4wEi_Ruma"
      }
    },
    {
      "cell_type": "code",
      "source": [
        "df1.createOrReplaceTempView('Temptable1')\n",
        "spark.sql('select industry_code_ANZSIC, count(*) from Temptable1 group by industry_code_ANZSIC').show()"
      ],
      "metadata": {
        "colab": {
          "base_uri": "https://localhost:8080/"
        },
        "id": "oKEjMYv5Nfws",
        "outputId": "dec4c298-b6bc-470e-808e-066f40803b16"
      },
      "execution_count": 59,
      "outputs": [
        {
          "output_type": "stream",
          "name": "stdout",
          "text": [
            "+--------------------+--------+\n",
            "|industry_code_ANZSIC|count(1)|\n",
            "+--------------------+--------+\n",
            "|                   K|     891|\n",
            "|                   F|     891|\n",
            "|                   Q|     891|\n",
            "|                   E|     891|\n",
            "|                   B|     891|\n",
            "|                   L|     891|\n",
            "|                   M|     891|\n",
            "|                   D|     891|\n",
            "|                   O|     891|\n",
            "|                   C|     891|\n",
            "|                   J|     891|\n",
            "|                   A|     891|\n",
            "|                   N|     891|\n",
            "|                   S|     891|\n",
            "|                   R|     891|\n",
            "|                   G|     891|\n",
            "|                   I|     891|\n",
            "|                   P|     891|\n",
            "|                 all|      99|\n",
            "|                   H|     891|\n",
            "+--------------------+--------+\n",
            "\n"
          ]
        }
      ]
    },
    {
      "cell_type": "markdown",
      "source": [
        "DEFAULT database in the spark is named **default**"
      ],
      "metadata": {
        "id": "LgMk2sRcV4Ks"
      }
    },
    {
      "cell_type": "code",
      "source": [
        "spark.sql(\"show databases\").show()"
      ],
      "metadata": {
        "colab": {
          "base_uri": "https://localhost:8080/"
        },
        "id": "rrjgVYFBWDdL",
        "outputId": "502e0318-3c5c-4a70-a282-8f5984633582"
      },
      "execution_count": 60,
      "outputs": [
        {
          "output_type": "stream",
          "name": "stdout",
          "text": [
            "+---------+\n",
            "|namespace|\n",
            "+---------+\n",
            "|  default|\n",
            "+---------+\n",
            "\n"
          ]
        }
      ]
    },
    {
      "cell_type": "code",
      "source": [
        "#can create a new database \n",
        "spark.sql(\"create database demo\")\n",
        "spark.sql(\"show databases\").show()"
      ],
      "metadata": {
        "colab": {
          "base_uri": "https://localhost:8080/"
        },
        "id": "J1ahZsM6WKRF",
        "outputId": "fac570e0-d772-4254-91a8-d5bdb875c021"
      },
      "execution_count": 61,
      "outputs": [
        {
          "output_type": "stream",
          "name": "stdout",
          "text": [
            "+---------+\n",
            "|namespace|\n",
            "+---------+\n",
            "|  default|\n",
            "|     demo|\n",
            "+---------+\n",
            "\n"
          ]
        }
      ]
    },
    {
      "cell_type": "code",
      "source": [
        "#To reuse the table or data, we should create a permananent table\n",
        "df1.write.saveAsTable('demo.permanent1')\n",
        "spark.sql('show tables in demo').show()"
      ],
      "metadata": {
        "colab": {
          "base_uri": "https://localhost:8080/"
        },
        "id": "noM-_0nUWZ3j",
        "outputId": "4a55be80-0569-48c7-ce60-3920b0aee968"
      },
      "execution_count": 62,
      "outputs": [
        {
          "output_type": "stream",
          "name": "stdout",
          "text": [
            "+---------+----------+-----------+\n",
            "|namespace| tableName|isTemporary|\n",
            "+---------+----------+-----------+\n",
            "|     demo|permanent1|      false|\n",
            "|         |temptable1|       true|\n",
            "+---------+----------+-----------+\n",
            "\n"
          ]
        }
      ]
    }
  ]
}